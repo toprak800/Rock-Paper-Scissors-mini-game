{
  "nbformat": 4,
  "nbformat_minor": 0,
  "metadata": {
    "colab": {
      "provenance": [],
      "authorship_tag": "ABX9TyMqGfDvts9dTC4Wy7tSA41h",
      "include_colab_link": true
    },
    "kernelspec": {
      "name": "python3",
      "display_name": "Python 3"
    },
    "language_info": {
      "name": "python"
    }
  },
  "cells": [
    {
      "cell_type": "markdown",
      "metadata": {
        "id": "view-in-github",
        "colab_type": "text"
      },
      "source": [
        "<a href=\"https://colab.research.google.com/github/toprak800/Rock-Paper-Scissors-mini-game/blob/main/Rock_Paper_Sciossors_minigame.ipynb\" target=\"_parent\"><img src=\"https://colab.research.google.com/assets/colab-badge.svg\" alt=\"Open In Colab\"/></a>"
      ]
    },
    {
      "cell_type": "code",
      "execution_count": 2,
      "metadata": {
        "id": "RZhSbBtGsHGr"
      },
      "outputs": [],
      "source": [
        "import random"
      ]
    },
    {
      "cell_type": "code",
      "source": [
        "action_list = ['rock', 'paper', 'scissor']"
      ],
      "metadata": {
        "id": "3a2uKNV8sWAr"
      },
      "execution_count": 3,
      "outputs": []
    },
    {
      "cell_type": "code",
      "source": [
        "from ast import Break\n",
        "computer_score = 0\n",
        "player_score = 0\n",
        "\n",
        "\n",
        "\n",
        "total_rounds = input(\"How many rounds do you want to play? Please enter a number here: \" )\n",
        "\n",
        "\n",
        "round_counter = 0\n",
        "\n",
        "while True:\n",
        "\n",
        "\n",
        "  round_counter += 1\n",
        "  print(\"Round number:\" , round_counter)\n",
        "\n",
        "\n",
        "\n",
        "\n",
        "\n",
        "  computer_choice = random.choice(action_list)\n",
        "\n",
        "\n",
        "  player_choice = input(\" Please choose your action: \")\n",
        "\n",
        "\n",
        "  print(\"Computer: \", computer_choice)\n",
        "  print(\"Player: \", player_choice)\n",
        "\n",
        "\n",
        "\n",
        "\n",
        "  if computer_choice == player_choice:\n",
        "   print(\"Tie! Both players chose the same action.\")\n",
        "\n",
        "\n",
        "\n",
        "  elif computer_choice == 'paper':\n",
        "   if player_choice == 'rock':\n",
        "    print(\"Winner is: Computer\")\n",
        "    computer_score += 1\n",
        "   else:\n",
        "      print(\"Winner is: Player\")\n",
        "      player_score += 1\n",
        "\n",
        "  elif computer_choice == 'rock':\n",
        "   if player_choice == 'paper':\n",
        "    print(\"Winner is: Player\")\n",
        "    player_score =+ 1\n",
        "   else:\n",
        "    print(\"Winner is : Computer\")\n",
        "    computer_score += 1\n",
        "\n",
        "  elif computer_choice == 'scissor' :\n",
        "   if player_choice == 'paper':\n",
        "    print('Winner is: Computer')\n",
        "    computer_score += 1\n",
        "   else:\n",
        "    print(\"Winner is: Player\")\n",
        "    player_score += 1\n",
        "\n",
        "\n",
        "  if round_counter == int(total_rounds):\n",
        "    break\n",
        "\n",
        "\n",
        "\n",
        "\n",
        "if computer_score == player_score:\n",
        "  print(\" There is no winner, tie\", computer_score, \":\", player_score)\n",
        "elif computer_score > player_score:\n",
        "  print(\"Computer won with score\", computer_score, \":\", player_score)\n",
        "elif computer_score < player_score:\n",
        "  print(\"Player won with score\", computer_score, \":\", player_score)"
      ],
      "metadata": {
        "colab": {
          "base_uri": "https://localhost:8080/"
        },
        "id": "l16YXqdVsYjH",
        "outputId": "5466c1c2-54c1-4fdc-cbae-1a6f2e69414b"
      },
      "execution_count": 4,
      "outputs": [
        {
          "output_type": "stream",
          "name": "stdout",
          "text": [
            "How many rounds do you want to play? Please enter a number here: 1\n",
            "Round number: 1\n",
            " Please choose your action: scissor\n",
            "Computer:  scissor\n",
            "Player:  scissor\n",
            "Tie! Both players chose the same action.\n",
            " There is no winner, tie 0 : 0\n"
          ]
        }
      ]
    }
  ]
}